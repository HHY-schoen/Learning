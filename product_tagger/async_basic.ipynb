{
 "cells": [
  {
   "cell_type": "code",
   "execution_count": 11,
   "metadata": {},
   "outputs": [],
   "source": [
    "import asyncio\n",
    "import random"
   ]
  },
  {
   "cell_type": "code",
   "execution_count": 1,
   "metadata": {},
   "outputs": [],
   "source": [
    "# asyncio.run() 不能在已經運行的事件迴圈（event loop）中被呼叫，這通常會在 Jupyter Notebook 或 某些異步框架（如 FastAPI、JupyterLab） 中發生，因為它們已經有一個運行中的事件迴圈。"
   ]
  },
  {
   "cell_type": "code",
   "execution_count": null,
   "metadata": {},
   "outputs": [
    {
     "name": "stdout",
     "output_type": "stream",
     "text": [
      "Hello\n",
      "World\n"
     ]
    }
   ],
   "source": [
    "# 基本 async 和 await : 使用 async def 定義，並用 await 讓出控制權，讓其他異步任務可以運行。\n",
    "async def say_hello():\n",
    "    print(\"Hello\")\n",
    "    await asyncio.sleep(2)  # 模擬等待 2 秒\n",
    "    print(\"World\")\n",
    "\n",
    "await say_hello()"
   ]
  },
  {
   "cell_type": "code",
   "execution_count": 5,
   "metadata": {},
   "outputs": [
    {
     "name": "stdout",
     "output_type": "stream",
     "text": [
      "Task 1 開始\n",
      "Task 1 完成\n",
      "Task 2 開始\n",
      "Task 2 完成\n"
     ]
    }
   ],
   "source": [
    "# 多個異步函式 : 當有多個異步函式時，await 會讓它們順序執行，而不會並行運行。\n",
    "async def task1():\n",
    "    print(\"Task 1 開始\")\n",
    "    await asyncio.sleep(2)\n",
    "    print(\"Task 1 完成\")\n",
    "\n",
    "async def task2():\n",
    "    print(\"Task 2 開始\")\n",
    "    await asyncio.sleep(1)\n",
    "    print(\"Task 2 完成\")\n",
    "\n",
    "async def main():\n",
    "    await task1()\n",
    "    await task2()\n",
    "\n",
    "await main()"
   ]
  },
  {
   "cell_type": "code",
   "execution_count": 6,
   "metadata": {},
   "outputs": [
    {
     "name": "stdout",
     "output_type": "stream",
     "text": [
      "Task 1 開始\n",
      "Task 2 開始\n",
      "Task 2 完成\n",
      "Task 1 完成\n"
     ]
    }
   ],
   "source": [
    "# 讓異步函式並行執行 (asyncio.gather()) : 同時 執行多個異步函式（並行執行），可以用 asyncio.gather()。\n",
    "async def task1():\n",
    "    print(\"Task 1 開始\")\n",
    "    await asyncio.sleep(2)\n",
    "    print(\"Task 1 完成\")\n",
    "\n",
    "async def task2():\n",
    "    print(\"Task 2 開始\")\n",
    "    await asyncio.sleep(1)\n",
    "    print(\"Task 2 完成\")\n",
    "\n",
    "async def main():\n",
    "    await asyncio.gather(task1(), task2())  # 同時執行 task1 和 task2\n",
    "\n",
    "await main()"
   ]
  },
  {
   "cell_type": "code",
   "execution_count": 13,
   "metadata": {},
   "outputs": [
    {
     "name": "stdout",
     "output_type": "stream",
     "text": [
      "Task 1 開始\n",
      "Task 2 開始\n",
      "Task 2 完成\n",
      "Task 1 完成\n"
     ]
    }
   ],
   "source": [
    "# 使用 asyncio.create_task() 讓任務並行 : 除了 asyncio.gather()，還可以用 asyncio.create_task() 來創建並行任務，讓 task1 和 task2 **幾乎同時開始執行**\n",
    "async def task1():\n",
    "    print(\"Task 1 開始\")\n",
    "    await asyncio.sleep(2)\n",
    "    print(\"Task 1 完成\")\n",
    "\n",
    "async def task2():\n",
    "    print(\"Task 2 開始\")\n",
    "    await asyncio.sleep(1)\n",
    "    print(\"Task 2 完成\")\n",
    "\n",
    "async def main():\n",
    "    t1 = asyncio.create_task(task1())  # 建立 task1 任務\n",
    "    t2 = asyncio.create_task(task2())  # 建立 task2 任務\n",
    "    await t1  # 等待 task1 完成\n",
    "    await t2  # 等待 task2 完成\n",
    "\n",
    "await main()"
   ]
  },
  {
   "cell_type": "code",
   "execution_count": null,
   "metadata": {},
   "outputs": [
    {
     "name": "stdout",
     "output_type": "stream",
     "text": [
      "讀取 https://www.python.org，狀態碼：200\n",
      "讀取 https://www.openai.com，狀態碼：403\n",
      "讀取 https://www.example.com，狀態碼：200\n"
     ]
    }
   ],
   "source": [
    "# 非同步爬取網頁 (aiohttp) : 當你需要大量網路請求時，async 可以大幅提升效能。這裡我們使用 aiohttp 來並行請求多個網站。\n",
    "import aiohttp\n",
    "\n",
    "async def fetch(url):\n",
    "    async with aiohttp.ClientSession() as session:\n",
    "        async with session.get(url) as response:\n",
    "            print(f\"讀取 {url}，狀態碼：{response.status}\")\n",
    "            return await response.text()\n",
    "\n",
    "async def main():\n",
    "    urls = [\n",
    "        \"https://www.example.com\",\n",
    "        \"https://www.python.org\",\n",
    "        \"https://www.openai.com\"\n",
    "    ]\n",
    "    \n",
    "    tasks = [fetch(url) for url in urls]  # 創建任務列表\n",
    "    await asyncio.gather(*tasks)  # 並行執行所有請求\n",
    "\n",
    "await main()"
   ]
  },
  {
   "cell_type": "code",
   "execution_count": 10,
   "metadata": {},
   "outputs": [
    {
     "name": "stdout",
     "output_type": "stream",
     "text": [
      "開始執行\n",
      "超時！任務未完成\n"
     ]
    }
   ],
   "source": [
    "# 讓異步函式超時 (asyncio.wait_for()) : 有時候，我們希望某個異步函式 不能超過特定時間，否則就取消它。例如，設置 3 秒超時，如果 3 秒內沒有完成，就拋出錯誤。\n",
    "async def slow_task():\n",
    "    print(\"開始執行\")\n",
    "    await asyncio.sleep(5)  # 模擬一個很慢的操作\n",
    "    print(\"任務完成\")\n",
    "\n",
    "async def main():\n",
    "    try:\n",
    "        await asyncio.wait_for(slow_task(), timeout=3)  # 設置 3 秒超時，函式最多運行 3 秒，超過就會中斷\n",
    "    except asyncio.TimeoutError:\n",
    "        print(\"超時！任務未完成\")\n",
    "\n",
    "await main()"
   ]
  },
  {
   "cell_type": "code",
   "execution_count": 12,
   "metadata": {},
   "outputs": [
    {
     "name": "stdout",
     "output_type": "stream",
     "text": [
      "Worker 0 開始\n",
      "Worker 1 開始\n",
      "Worker 0 完成\n",
      "Worker 2 開始\n",
      "Worker 2 完成\n",
      "Worker 3 開始\n",
      "Worker 1 完成\n",
      "Worker 4 開始\n",
      "Worker 3 完成\n",
      "Worker 4 完成\n"
     ]
    }
   ],
   "source": [
    "# 限制並行數量 (asyncio.Semaphore()) : 如果我們想要並行運行很多任務，但不希望一次執行太多（例如避免爬取太多網站導致被封），可以使用 asyncio.Semaphore() 來限制同時運行的數量。\n",
    "async def worker(semaphore, num):\n",
    "    async with semaphore:  # 只有 N 個任務能同時運行\n",
    "        print(f\"Worker {num} 開始\")\n",
    "        await asyncio.sleep(random.randint(1, 3))  # 模擬不同的工作時間\n",
    "        print(f\"Worker {num} 完成\")\n",
    "\n",
    "async def main():\n",
    "    semaphore = asyncio.Semaphore(2)  # 最多允許 2 個任務同時執行\n",
    "    tasks = [worker(semaphore, i) for i in range(5)]  # 創建 5 個 worker\n",
    "    await asyncio.gather(*tasks)\n",
    "\n",
    "await main()"
   ]
  },
  {
   "cell_type": "code",
   "execution_count": null,
   "metadata": {},
   "outputs": [],
   "source": []
  },
  {
   "cell_type": "code",
   "execution_count": null,
   "metadata": {},
   "outputs": [],
   "source": []
  }
 ],
 "metadata": {
  "kernelspec": {
   "display_name": "py38",
   "language": "python",
   "name": "python3"
  },
  "language_info": {
   "codemirror_mode": {
    "name": "ipython",
    "version": 3
   },
   "file_extension": ".py",
   "mimetype": "text/x-python",
   "name": "python",
   "nbconvert_exporter": "python",
   "pygments_lexer": "ipython3",
   "version": "3.8.10"
  }
 },
 "nbformat": 4,
 "nbformat_minor": 2
}
