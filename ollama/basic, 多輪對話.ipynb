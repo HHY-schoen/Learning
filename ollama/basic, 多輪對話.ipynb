{
 "cells": [
  {
   "cell_type": "code",
   "execution_count": 1,
   "metadata": {},
   "outputs": [],
   "source": [
    "from ollama import Client"
   ]
  },
  {
   "cell_type": "code",
   "execution_count": null,
   "metadata": {},
   "outputs": [],
   "source": [
    "client = Client(host=<port>, timeout=180)"
   ]
  },
  {
   "cell_type": "code",
   "execution_count": 3,
   "metadata": {},
   "outputs": [
    {
     "name": "stdout",
     "output_type": "stream",
     "text": [
      "model='deepseek-r1:70b' modified_at=datetime.datetime(2025, 2, 5, 5, 9, 22, tzinfo=TzInfo(UTC)) digest='0c1615a8ca32ef41e433aa420558b4685f9fc7f3fd74119860a8e2e389cd7942' size=42520397704 details=ModelDetails(parent_model='', format='gguf', family='llama', families=['llama'], parameter_size='70.6B', quantization_level='Q4_K_M')\n",
      "model='llama3.3:70b' modified_at=datetime.datetime(2024, 12, 27, 7, 14, 14, tzinfo=TzInfo(UTC)) digest='a6eb4748fd2990ad2952b2335a95a7f952d1a06119a0aa6a2df6cd052a93a3fa' size=42520413916 details=ModelDetails(parent_model='', format='gguf', family='llama', families=['llama'], parameter_size='70.6B', quantization_level='Q4_K_M')\n",
      "model='gemma2:27b' modified_at=datetime.datetime(2024, 11, 29, 3, 56, tzinfo=TzInfo(UTC)) digest='53261bc9c192c1cb5fcc898dd3aa15da093f5ab6f08e17e48cf838bb1c58abfe' size=15628387458 details=ModelDetails(parent_model='', format='gguf', family='gemma2', families=['gemma2'], parameter_size='27.2B', quantization_level='Q4_0')\n",
      "model='llama3.2-vision:90b' modified_at=datetime.datetime(2024, 11, 22, 3, 35, 7, tzinfo=TzInfo(UTC)) digest='2ba4f038aab3b768d39b953684654570e03db0b0ce8bf96e27562c917ff98b36' size=54713024426 details=ModelDetails(parent_model='', format='gguf', family='mllama', families=['mllama', 'mllama'], parameter_size='87.7B', quantization_level='Q4_K_M')\n"
     ]
    }
   ],
   "source": [
    "# 列出所有已安裝的模型\n",
    "models = client.list()\n",
    "for model in models['models']:\n",
    "    print(model)\n",
    "\n",
    "# DeepSeek-R1:70B：中國 DeepSeek 開發的 700 億參數模型，強於數學、代碼和推理任務。\n",
    "# Llama3.3:70B：Meta 推出的 700 億參數開源模型，靈活可擴展，適用於多種 NLP 任務。\n",
    "# Gemma2:27B：Google 開源的 270 億參數模型，性能優於某些更大模型，適合文本生成與推理。\n",
    "# Llama3.2-Vision:90B：Meta 的 900 億參數多模態模型，能處理圖像與語言任務。"
   ]
  },
  {
   "cell_type": "code",
   "execution_count": null,
   "metadata": {},
   "outputs": [],
   "source": [
    "# # messages：一個對話列表，包含歷史對話內容：\n",
    "# {\"role\": \"system\", \"content\": \"…\"}：設定 AI 的角色（可選）。\n",
    "# {\"role\": \"user\", \"content\": \"…\"}：用戶輸入的內容。\n",
    "# {\"role\": \"assistant\", \"content\": \"…\"}：AI 之前的回應（可選，用於保持對話上下文）。\n",
    "\n",
    "messages = [\n",
    "    {\"role\": \"system\", \"content\": \"You are a coding assistant.\"},\n",
    "    {\"role\": \"user\", \"content\": \"如何用 Python 實現 Fibonacci？\"}\n",
    "]\n",
    "\n",
    "response = client.chat(model=\"gemma2:27b\", messages=messages)"
   ]
  },
  {
   "cell_type": "code",
   "execution_count": null,
   "metadata": {},
   "outputs": [],
   "source": [
    "print(response.message.content)"
   ]
  },
  {
   "cell_type": "code",
   "execution_count": null,
   "metadata": {},
   "outputs": [],
   "source": [
    "# 多輪對話\n",
    "messages = [\n",
    "    {\"role\": \"system\", \"content\": \"You are a coding assistant.\"},\n",
    "    {\"role\": \"user\", \"content\": \"如何用 Python 實現 Fibonacci？\"}\n",
    "]\n",
    "\n",
    "response = client.chat(model=\"gemma2:27b\", messages=messages)\n",
    "messages.append({\"role\": \"assistant\", \"content\": response[\"message\"][\"content\"]})\n",
    "\n",
    "# 再問一個問題，維持對話上下文\n",
    "messages.append({\"role\": \"user\", \"content\": \"可以用遞歸方式嗎？\"})\n",
    "\n",
    "response = client.chat(model=\"gemma2:27b\", messages=messages)\n",
    "print(response[\"message\"][\"content\"])"
   ]
  },
  {
   "cell_type": "code",
   "execution_count": null,
   "metadata": {},
   "outputs": [],
   "source": []
  },
  {
   "cell_type": "code",
   "execution_count": null,
   "metadata": {},
   "outputs": [],
   "source": []
  }
 ],
 "metadata": {
  "kernelspec": {
   "display_name": "py38",
   "language": "python",
   "name": "python3"
  },
  "language_info": {
   "codemirror_mode": {
    "name": "ipython",
    "version": 3
   },
   "file_extension": ".py",
   "mimetype": "text/x-python",
   "name": "python",
   "nbconvert_exporter": "python",
   "pygments_lexer": "ipython3",
   "version": "3.8.10"
  }
 },
 "nbformat": 4,
 "nbformat_minor": 2
}
