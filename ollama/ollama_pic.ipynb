{
 "cells": [
  {
   "cell_type": "code",
   "execution_count": 3,
   "metadata": {},
   "outputs": [],
   "source": [
    "# !pip install ollama\n",
    "from ollama import Client"
   ]
  },
  {
   "cell_type": "code",
   "execution_count": null,
   "metadata": {},
   "outputs": [],
   "source": [
    "client = Client(host=<port>, timeout=180)"
   ]
  },
  {
   "cell_type": "code",
   "execution_count": null,
   "metadata": {},
   "outputs": [],
   "source": [
    "system_prompt = \"You are an excellent photojournalist. Based on your experience, please speculate on the circumstances under which this photo might have been taken and give an appropriate explanation.\"\n",
    "user_prompt = \"I am a blind person. Please give a suitable description of this picture so that I can understand the content of this picture.\"\n",
    "\n",
    "image_path_list = [\n",
    "    \"./ollama/img/6e6e790c86a63.jpg\",\n",
    "    \"./ollama/img/107ba884354b.jpg\"\n",
    "]\n",
    "\n",
    "for image_path in image_path_list:\n",
    "    # print(image_path)\n",
    "    messages = [\n",
    "        {\"role\": \"system\", \"content\": system_prompt},\n",
    "        {\n",
    "            \"role\": \"user\",\n",
    "            \"content\": user_prompt,\n",
    "            \"images\": [image_path],\n",
    "        },\n",
    "    ]\n",
    "    response = client.chat(\n",
    "        model=\"llama3.2-vision:90b\",\n",
    "        messages=messages,\n",
    "    )\n",
    "    print(response.message.content)\n",
    "    print(\"*\" * 20)"
   ]
  },
  {
   "cell_type": "code",
   "execution_count": null,
   "metadata": {},
   "outputs": [],
   "source": []
  },
  {
   "cell_type": "code",
   "execution_count": null,
   "metadata": {},
   "outputs": [],
   "source": []
  }
 ],
 "metadata": {
  "kernelspec": {
   "display_name": "py38",
   "language": "python",
   "name": "python3"
  },
  "language_info": {
   "codemirror_mode": {
    "name": "ipython",
    "version": 3
   },
   "file_extension": ".py",
   "mimetype": "text/x-python",
   "name": "python",
   "nbconvert_exporter": "python",
   "pygments_lexer": "ipython3",
   "version": "3.8.10"
  }
 },
 "nbformat": 4,
 "nbformat_minor": 2
}
