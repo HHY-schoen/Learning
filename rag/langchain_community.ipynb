{
 "cells": [
  {
   "cell_type": "code",
   "execution_count": null,
   "metadata": {},
   "outputs": [],
   "source": [
    "# rag_test 目的為理解 RAG 原理\n",
    "\n",
    "# 使用 LangChain\n",
    "# langchain_community 是 LangChain 2.0 後的新架構，把許多社群貢獻整合獨立出來成工具（如資料庫、向量儲存、API 服務），需額外安裝。\n",
    "# langchain 是核心套件，負責主要的鏈式應用邏輯，但不再內建所有工具和連接器。"
   ]
  },
  {
   "cell_type": "code",
   "execution_count": null,
   "metadata": {},
   "outputs": [],
   "source": [
    "from langchain_community.llms import Ollama\n",
    "from langchain_community.document_loaders import TextLoader\n",
    "from langchain.text_splitter import RecursiveCharacterTextSplitter\n",
    "from langchain_community.embeddings import OllamaEmbeddings\n",
    "from langchain_community.vectorstores import Chroma\n",
    "from langchain_core.prompts import ChatPromptTemplate\n",
    "from langchain.chains.combine_documents import create_stuff_documents_chain\n",
    "from langchain.chains import create_retrieval_chain"
   ]
  },
  {
   "cell_type": "code",
   "execution_count": 27,
   "metadata": {},
   "outputs": [],
   "source": [
    "llm = Ollama(model=\"mistral\")"
   ]
  },
  {
   "cell_type": "code",
   "execution_count": null,
   "metadata": {},
   "outputs": [
    {
     "data": {
      "text/plain": [
       "[Document(metadata={'source': 'about.txt'}, page_content='蘋果公司（英語：Apple Inc.），原稱蘋果電腦公司（英語：Apple Computer, Inc.），是源自美國的跨國科技公司，總部位於美國加州的庫比蒂諾，與亞馬遜、谷歌、微軟、Meta並列為五大科技巨擘。目前的業務包括設計、研發、手機通訊和銷售消費電子、電腦軟體、線上服務和個人電腦。\\n\\n該公司最著名的硬體產品有iPhone智慧型手機、iPad平板電腦、Mac個人電腦、iPod音樂播放器、Apple Watch智慧型手錶、Apple Vision Pro空間計算電腦、 Apple TV媒體播放器 、AirPods無線耳機和HomePod智慧型喇叭、遊戲機Pippin ；軟體有macOS、iOS、iPadOS、watchOS、tvOS和新的visionOS六大作業系統、iTunes播放器、Safari網頁瀏覽器 、Shazam音樂辨識，還有iLife和iWork創意和生產力套件，以及Final Cut Pro、Logic Pro和Xcode等專業軟體。線上服務有iTunes Store、iOS App Store、Mac App Store、Apple Music、Apple TV+、iMessage和iCloud。蘋果公司還有其他一系列服務包括Apple Store、Genius Bar、AppleCare、Apple Pay、Apple Pay Cash和Apple Card等。\\n\\n按收入計算，蘋果是全球最大的科技公司，也是全球市值最高的公司之一。2022年1月，它成為了第一家市值達到3兆美元的公司。蘋果公司還擁有很高的品牌忠誠度，並被評為世界最具價值品牌。')]"
      ]
     },
     "execution_count": 17,
     "metadata": {},
     "output_type": "execute_result"
    }
   ],
   "source": [
    "loader = TextLoader(\"about.txt\")\n",
    "loader.load()"
   ]
  },
  {
   "cell_type": "code",
   "execution_count": 18,
   "metadata": {},
   "outputs": [
    {
     "data": {
      "text/plain": [
       "[Document(metadata={'source': 'about.txt'}, page_content='蘋果公司（英語：Apple'),\n",
       " Document(metadata={'source': 'about.txt'}, page_content=' Inc.），原稱蘋果電腦公司（英語：Apple'),\n",
       " Document(metadata={'source': 'about.txt'}, page_content='Computer,'),\n",
       " Document(metadata={'source': 'about.txt'}, page_content=' Inc.），是源自美國的跨國科技公司，總部位於美國加州的庫比蒂諾，與亞馬遜、谷歌、微軟、Meta並列為五大科技巨擘。目前的業務包括設計、研發、手機通訊和銷售消費電子、電腦軟體、線上服務和個人電腦。'),\n",
       " Document(metadata={'source': 'about.txt'}, page_content='\\n該公司最著名的硬體產品有iPhone智慧型手機、iPad平板電腦、Mac個人電腦、iPod音樂播放器、Apple'),\n",
       " Document(metadata={'source': 'about.txt'}, page_content='Watch智慧型手錶、Apple'),\n",
       " Document(metadata={'source': 'about.txt'}, page_content='Vision Pro空間計算電腦、'),\n",
       " Document(metadata={'source': 'about.txt'}, page_content='Apple TV媒體播放器'),\n",
       " Document(metadata={'source': 'about.txt'}, page_content=' 、AirPods無線耳機和HomePod智慧型喇叭、遊戲機Pippin'),\n",
       " Document(metadata={'source': 'about.txt'}, page_content=' ；軟體有macOS、iOS、iPadOS、watchOS、tvOS和新的visionOS六大作業系統、iTunes播放器、Safari網頁瀏覽器'),\n",
       " Document(metadata={'source': 'about.txt'}, page_content=' 、Shazam音樂辨識，還有iLife和iWork創意和生產力套件，以及Final'),\n",
       " Document(metadata={'source': 'about.txt'}, page_content='Cut Pro、Logic'),\n",
       " Document(metadata={'source': 'about.txt'}, page_content=' Pro和Xcode等專業軟體。線上服務有iTunes'),\n",
       " Document(metadata={'source': 'about.txt'}, page_content='Store、iOS App'),\n",
       " Document(metadata={'source': 'about.txt'}, page_content='App Store、Mac App'),\n",
       " Document(metadata={'source': 'about.txt'}, page_content='App Store、Apple'),\n",
       " Document(metadata={'source': 'about.txt'}, page_content='Music、Apple'),\n",
       " Document(metadata={'source': 'about.txt'}, page_content=' TV+、iMessage和iCloud。蘋果公司還有其他一系列服務包括Apple'),\n",
       " Document(metadata={'source': 'about.txt'}, page_content='Store、Genius'),\n",
       " Document(metadata={'source': 'about.txt'}, page_content=' Bar、AppleCare、Apple'),\n",
       " Document(metadata={'source': 'about.txt'}, page_content='Pay、Apple Pay'),\n",
       " Document(metadata={'source': 'about.txt'}, page_content='Pay Cash和Apple'),\n",
       " Document(metadata={'source': 'about.txt'}, page_content='Card等。'),\n",
       " Document(metadata={'source': 'about.txt'}, page_content='\\n按收入計算，蘋果是全球最大的科技公司，也是全球市值最高的公司之一。2022年1月，它成為了第一家市值達到3兆美元的公司。蘋果公司還擁有很高的品牌忠誠度，並被評為世界最具價值品牌。')]"
      ]
     },
     "execution_count": 18,
     "metadata": {},
     "output_type": "execute_result"
    }
   ],
   "source": [
    "text_splitter = RecursiveCharacterTextSplitter(\n",
    "    chunk_size=20,\n",
    "    chunk_overlap=5,\n",
    "    separators=[\" \", \",\", \"\\n\"],\n",
    ")\n",
    "text_splitter.split_documents(loader.load())"
   ]
  },
  {
   "cell_type": "code",
   "execution_count": null,
   "metadata": {},
   "outputs": [],
   "source": [
    "embeddings = OllamaEmbeddings(model=\"nomic-embed-text\")"
   ]
  },
  {
   "cell_type": "code",
   "execution_count": null,
   "metadata": {},
   "outputs": [],
   "source": []
  },
  {
   "cell_type": "code",
   "execution_count": null,
   "metadata": {},
   "outputs": [],
   "source": [
    "# 實作\n",
    "# 使用 langchain_community 第三方套件來建立 LLM 物件\n",
    "llm = Ollama(model=\"mistral\")\n",
    "# 讀取.txt內容，不用自己手動呼叫 open() 函數讀取檔案\n",
    "loader = TextLoader(\"about.txt\")\n",
    "\n",
    "# 把文字分割成小段落\n",
    "text_splitter = RecursiveCharacterTextSplitter(\n",
    "    chunk_size=20,\n",
    "    chunk_overlap=5,\n",
    "    separators=[\" \", \",\", \"\\n\"],\n",
    ")\n",
    "\n",
    "splited_docs = text_splitter.split_documents(loader.load())\n",
    "\n",
    "# 改用 nomic-embed-text 模型計算向量(速度較快)\n",
    "embeddings = OllamaEmbeddings(model=\"nomic-embed-text\")\n",
    "\n",
    "# 將計算好的embedding存在sqlite db中\n",
    "vector_db = Chroma.from_documents(\n",
    "    documents=splited_docs,\n",
    "    embedding=embeddings,\n",
    "    persist_directory=\"db\",\n",
    "    collection_name=\"about\",\n",
    ")\n",
    "\n",
    "# 把向量變成檢索器\n",
    "retriever = vector_db.as_retriever(search_kwargs={\"k\": 3})\n",
    "\n",
    "system_prompt = \"現在開始使用我提供的情境來回答，只能使用繁體中文，不要有簡體中文字。如果你不確定答案，就說不知道。情境如下:\\n\\n{context}\"\n",
    "prompt_template = ChatPromptTemplate.from_messages(\n",
    "    [\n",
    "        (\"system\", system_prompt),\n",
    "        (\"user\", \"問題: {input}\"),\n",
    "    ]\n",
    ")\n",
    "\n",
    "\n",
    "document_chain = create_stuff_documents_chain(llm, prompt_template)\n",
    "retrieval_chain = create_retrieval_chain(retriever, document_chain)\n",
    "\n",
    "context = []\n",
    "input_text = input(\"您想問什麼問題？\\n>>> \")\n",
    "\n",
    "while input_text.lower() != \"q\":\n",
    "    response = retrieval_chain.invoke({\"input\": input_text, \"context\": context})\n",
    "    context = response[\"context\"]\n",
    "\n",
    "    print(response[\"answer\"])"
   ]
  },
  {
   "cell_type": "code",
   "execution_count": null,
   "metadata": {},
   "outputs": [],
   "source": []
  },
  {
   "cell_type": "code",
   "execution_count": null,
   "metadata": {},
   "outputs": [],
   "source": []
  }
 ],
 "metadata": {
  "kernelspec": {
   "display_name": "py38",
   "language": "python",
   "name": "python3"
  },
  "language_info": {
   "codemirror_mode": {
    "name": "ipython",
    "version": 3
   },
   "file_extension": ".py",
   "mimetype": "text/x-python",
   "name": "python",
   "nbconvert_exporter": "python",
   "pygments_lexer": "ipython3",
   "version": "3.8.10"
  }
 },
 "nbformat": 4,
 "nbformat_minor": 2
}
